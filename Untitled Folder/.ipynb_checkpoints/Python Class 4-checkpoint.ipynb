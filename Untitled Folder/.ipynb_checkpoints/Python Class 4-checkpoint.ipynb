{
 "cells": [
  {
   "cell_type": "code",
   "execution_count": 1,
   "metadata": {},
   "outputs": [
    {
     "name": "stdout",
     "output_type": "stream",
     "text": [
      "Hello World\n",
      "Hello World\n",
      "Hello World\n",
      "Hello World\n",
      "Hello World\n"
     ]
    }
   ],
   "source": [
    "a= 0\n",
    "while a<5:\n",
    "    print(\"Hello World\")\n",
    "    a= a+1\n"
   ]
  },
  {
   "cell_type": "code",
   "execution_count": 3,
   "metadata": {},
   "outputs": [
    {
     "name": "stdout",
     "output_type": "stream",
     "text": [
      "1 Hello World\n",
      "2 Hello World\n",
      "3 Hello World\n",
      "4 Hello World\n",
      "5 Hello World\n"
     ]
    }
   ],
   "source": [
    "a= 1\n",
    "while a<=5:\n",
    "    print(a,\"Hello World\")\n",
    "    a= a+1"
   ]
  },
  {
   "cell_type": "code",
   "execution_count": 4,
   "metadata": {},
   "outputs": [
    {
     "name": "stdout",
     "output_type": "stream",
     "text": [
      "Enter n = 3\n",
      "3\n",
      "6\n",
      "9\n",
      "12\n",
      "15\n",
      "18\n",
      "21\n",
      "24\n",
      "27\n",
      "30\n"
     ]
    }
   ],
   "source": [
    "n = int(input(\"Enter n = \"))\n",
    "a=1 \n",
    "while a<11:\n",
    "    print(n*a)\n",
    "    a = a+1\n",
    "    "
   ]
  },
  {
   "cell_type": "code",
   "execution_count": 5,
   "metadata": {},
   "outputs": [
    {
     "name": "stdout",
     "output_type": "stream",
     "text": [
      "Enter n = 4\n",
      "4 * 1 = 4\n",
      "4 * 2 = 8\n",
      "4 * 3 = 12\n",
      "4 * 4 = 16\n",
      "4 * 5 = 20\n",
      "4 * 6 = 24\n",
      "4 * 7 = 28\n",
      "4 * 8 = 32\n",
      "4 * 9 = 36\n",
      "4 * 10 = 40\n"
     ]
    }
   ],
   "source": [
    "n = int(input(\"Enter n = \"))\n",
    "a=1 \n",
    "while a<=10:\n",
    "    print(n,\"*\",a,\"=\",n*a)\n",
    "    a = a+1\n",
    "    "
   ]
  },
  {
   "cell_type": "code",
   "execution_count": 13,
   "metadata": {},
   "outputs": [
    {
     "name": "stdout",
     "output_type": "stream",
     "text": [
      "Enter the number of times you want to add =5\n",
      "Enter x =56\n",
      "Enter x =67\n",
      "Enter x =78\n",
      "Enter x =89\n",
      "Enter x =90\n",
      "380\n"
     ]
    }
   ],
   "source": [
    "s=0\n",
    "a=0\n",
    "n= int(input(\"Enter the number of times you want to add =\"))\n",
    "while a<n:\n",
    "    x= int(input(\"Enter x =\"))\n",
    "    s= s+x\n",
    "    a= a+1\n",
    "print(s)\n",
    "    "
   ]
  },
  {
   "cell_type": "code",
   "execution_count": null,
   "metadata": {},
   "outputs": [
    {
     "name": "stdout",
     "output_type": "stream",
     "text": [
      "How many rows =3\n"
     ]
    }
   ],
   "source": [
    "data =\"\"\n",
    "a = 0\n",
    "n = int(input(\"How many rows =\"))\n",
    "while a<n:\n",
    "    name = input(\"Enter name = \")\n",
    "    phone = input(\"ENter phone = \")\n",
    "    info = name + \"---\" + str(phone)\n",
    "    data = data + info + \"\\n\"\n",
    "    a = a+1\n",
    "print(data)"
   ]
  },
  {
   "cell_type": "code",
   "execution_count": 1,
   "metadata": {},
   "outputs": [],
   "source": [
    "a = \"Hello World\"\n",
    "n = len(a)\n",
    "b = 0\n",
    "while b<n :\n",
    "    if a[b] == \" \":\n",
    "     break\n",
    "     print(a[b], end=\"\")\n",
    "    b = b+1"
   ]
  },
  {
   "cell_type": "code",
   "execution_count": 7,
   "metadata": {},
   "outputs": [
    {
     "name": "stdout",
     "output_type": "stream",
     "text": [
      "HelloWorld"
     ]
    }
   ],
   "source": [
    "a = \"Hello World\"\n",
    "n = len(a)\n",
    "b = 0\n",
    "while b<n :\n",
    "    if a[b] == \" \":\n",
    "        b=b+1 \n",
    "        # because until the \"space\" the number of b is 5 and the program will not add b+1(since the program doesn't go forward cuz of continue command) hence, the next number of b is still b. \n",
    "        continue\n",
    "    print(a[b], end=\"\")\n",
    "    b = b+1"
   ]
  },
  {
   "cell_type": "code",
   "execution_count": 4,
   "metadata": {},
   "outputs": [
    {
     "name": "stdout",
     "output_type": "stream",
     "text": [
      "Enter x = 1\n",
      "Enter x = 2\n",
      "Enter x = 3\n",
      "Enter x = 4\n",
      " 1 2\n",
      " 3 4\n",
      "\n"
     ]
    }
   ],
   "source": [
    "data = \"\"\n",
    "for i in range(0,2):\n",
    "    info = \"\"\n",
    "    for j in range(0,2):\n",
    "        x = input(\"Enter x = \")\n",
    "        info = info + \" \"+ x\n",
    "    data = data + info + \"\\n\"\n",
    "print(data)"
   ]
  },
  {
   "cell_type": "code",
   "execution_count": 30,
   "metadata": {},
   "outputs": [
    {
     "name": "stdout",
     "output_type": "stream",
     "text": [
      "\n",
      "*\n",
      "**\n",
      "***\n",
      "****\n"
     ]
    }
   ],
   "source": [
    "for i in range(5):\n",
    "    print(\"*\"*i)"
   ]
  },
  {
   "cell_type": "code",
   "execution_count": 29,
   "metadata": {},
   "outputs": [
    {
     "name": "stdout",
     "output_type": "stream",
     "text": [
      "*****\n",
      "****\n",
      "***\n",
      "**\n",
      "*\n"
     ]
    }
   ],
   "source": [
    "for i in range(5,0,-1):\n",
    "    print(\"*\"*i)"
   ]
  },
  {
   "cell_type": "code",
   "execution_count": 1,
   "metadata": {},
   "outputs": [
    {
     "name": "stdout",
     "output_type": "stream",
     "text": [
      "1 1\n",
      "2 3 5 8 13 21 34 55 89 144 "
     ]
    }
   ],
   "source": [
    "# El fibonacci series\n",
    "a = 1\n",
    "b = 1\n",
    "print(a,b)\n",
    "for i in range(10): \n",
    "   c = a + b\n",
    "   print(c, end = \" \")\n",
    "   a = b\n",
    "   b = c\n",
    "\n"
   ]
  },
  {
   "cell_type": "code",
   "execution_count": 27,
   "metadata": {},
   "outputs": [
    {
     "name": "stdout",
     "output_type": "stream",
     "text": [
      "Enter a number greater than 1 : 23\n",
      "23 is a prime number\n",
      "23 is a prime number\n",
      "23 is a prime number\n",
      "23 is a prime number\n",
      "23 is a prime number\n",
      "23 is a prime number\n",
      "23 is a prime number\n",
      "23 is a prime number\n",
      "23 is a prime number\n",
      "23 is a prime number\n",
      "23 is a prime number\n",
      "23 is a prime number\n",
      "23 is a prime number\n",
      "23 is a prime number\n",
      "23 is a prime number\n",
      "23 is a prime number\n",
      "23 is a prime number\n",
      "23 is a prime number\n",
      "23 is a prime number\n",
      "23 is a prime number\n",
      "23 is a prime number\n"
     ]
    }
   ],
   "source": [
    "x = int(input(\"Enter a number greater than 1 : \"))\n",
    "for i in range(2,x):\n",
    "       if (x%i) == 0:\n",
    "        print(x,\"is a composite number\")\n",
    "       else:\n",
    "        print(x,\"is a prime number\")"
   ]
  },
  {
   "cell_type": "code",
   "execution_count": null,
   "metadata": {},
   "outputs": [],
   "source": []
  }
 ],
 "metadata": {
  "kernelspec": {
   "display_name": "Python 3",
   "language": "python",
   "name": "python3"
  },
  "language_info": {
   "codemirror_mode": {
    "name": "ipython",
    "version": 3
   },
   "file_extension": ".py",
   "mimetype": "text/x-python",
   "name": "python",
   "nbconvert_exporter": "python",
   "pygments_lexer": "ipython3",
   "version": "3.8.5"
  }
 },
 "nbformat": 4,
 "nbformat_minor": 4
}
