{
 "cells": [
  {
   "cell_type": "code",
   "execution_count": 1,
   "metadata": {},
   "outputs": [
    {
     "name": "stdout",
     "output_type": "stream",
     "text": [
      "Enter a =23\n",
      "Enter b =34\n",
      "Enter operator + - * /  /\n",
      "0.6764705882352942\n"
     ]
    }
   ],
   "source": [
    "a= int(input(\"Enter a =\"))\n",
    "b= int(input(\"Enter b =\"))\n",
    "o =input(\"Enter operator + - * /  \")\n",
    "if o == \"+\":\n",
    "  print(a+b)\n",
    "elif o == \"-\":\n",
    "  print(a-b)\n",
    "elif o == \"*\":\n",
    " print(a*b)\n",
    "elif o == \"/\":\n",
    " if b == 0 :\n",
    "  print(\"Value of b can't be zero during division.\")\n",
    " else :\n",
    "   print(a/b) \n",
    "else: \n",
    "  print(\"Invalid operator\")"
   ]
  },
  {
   "cell_type": "code",
   "execution_count": 4,
   "metadata": {},
   "outputs": [
    {
     "name": "stdout",
     "output_type": "stream",
     "text": [
      "Enter n =6\n",
      "720\n"
     ]
    }
   ],
   "source": [
    "# 5! = 1*2*3*4\n",
    "# range(1, n+1) because we need it start from 1 rather than 0. Also, n+1 because we need the program to include 5 not only till 4.\n",
    "fac= 1\n",
    "n = int(input(\"Enter n =\"))\n",
    "for i in range(1, n+1):\n",
    "  fac = fac*i\n",
    "print(fac)"
   ]
  },
  {
   "cell_type": "code",
   "execution_count": null,
   "metadata": {},
   "outputs": [],
   "source": [
    "s= 0 \n",
    "avg = 0\n",
    "n= int(input(\"Enter n= \"))\n",
    "for i in range(n):\n",
    "  x = int(input(\"Enter x =\"))\n",
    "  s=s+x\n",
    "  avg = (s/n)\n",
    "print (\"The sum is = \", s)\n",
    "print (\"The average is = \", avg)"
   ]
  },
  {
   "cell_type": "markdown",
   "metadata": {},
   "source": [
    " a= int(input(\"Enter a = \"))\n",
    "b= int(input( \"Enter b = \"))\n",
    "c= int(input(\"Enter c = \"))\n",
    "if a>b & a>c:\n",
    "  print(\"a is greater.\")\n",
    "elif b>c & b>a:\n",
    "  print(\"b is greater.\")\n",
    "elif c>a &c>b:\n",
    "  print(\"c is greater.\")\n",
    "else :\n",
    "  print(\"All are equal.\")"
   ]
  },
  {
   "cell_type": "code",
   "execution_count": null,
   "metadata": {},
   "outputs": [],
   "source": [
    "a= int(input(\"Enter a = \"))\n",
    "b= int(input( \"Enter b = \"))\n",
    "c= int(input(\"Enter c = \"))\n",
    "if a>b and a>c :\n",
    "  print(\"a is greatest.\")\n",
    "elif b>a and b>c :\n",
    "  print(\"b is greatest.\")\n",
    "elif c>a and c>b :\n",
    "  print(\"c is greatest\")\n",
    "else :\n",
    "  print(\"All are equal.\")"
   ]
  },
  {
   "cell_type": "code",
   "execution_count": null,
   "metadata": {},
   "outputs": [],
   "source": [
    "a = 10\n",
    "b = 20\n",
    "if a<b:\n",
    "    print(\"b is greater\")\n",
    "elif a>b:\n",
    "    print(\"a is greater\")\n",
    "else:\n",
    "    print(\"Both are equal\")"
   ]
  },
  {
   "cell_type": "code",
   "execution_count": null,
   "metadata": {},
   "outputs": [],
   "source": [
    "a = int(input(\"Enter a = \"))\n",
    "b = int(input(\"Enter b = \"))\n",
    "if a<b:\n",
    "    print(\"b is greater\")\n",
    "elif a>b:\n",
    "    print(\"a is greater\")\n",
    "else:\n",
    "    print(\"Both are equal\")"
   ]
  },
  {
   "cell_type": "code",
   "execution_count": null,
   "metadata": {},
   "outputs": [],
   "source": []
  },
  {
   "cell_type": "code",
   "execution_count": null,
   "metadata": {},
   "outputs": [],
   "source": []
  },
  {
   "cell_type": "code",
   "execution_count": null,
   "metadata": {},
   "outputs": [],
   "source": []
  },
  {
   "cell_type": "code",
   "execution_count": null,
   "metadata": {},
   "outputs": [],
   "source": []
  },
  {
   "cell_type": "code",
   "execution_count": null,
   "metadata": {},
   "outputs": [],
   "source": []
  },
  {
   "cell_type": "code",
   "execution_count": null,
   "metadata": {},
   "outputs": [],
   "source": []
  },
  {
   "cell_type": "code",
   "execution_count": null,
   "metadata": {},
   "outputs": [],
   "source": []
  },
  {
   "cell_type": "code",
   "execution_count": null,
   "metadata": {},
   "outputs": [],
   "source": []
  }
 ],
 "metadata": {
  "kernelspec": {
   "display_name": "Python 3",
   "language": "python",
   "name": "python3"
  },
  "language_info": {
   "codemirror_mode": {
    "name": "ipython",
    "version": 3
   },
   "file_extension": ".py",
   "mimetype": "text/x-python",
   "name": "python",
   "nbconvert_exporter": "python",
   "pygments_lexer": "ipython3",
   "version": "3.8.5"
  }
 },
 "nbformat": 4,
 "nbformat_minor": 4
}
