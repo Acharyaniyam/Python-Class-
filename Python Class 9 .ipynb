{
 "cells": [
  {
   "cell_type": "code",
   "execution_count": 8,
   "metadata": {},
   "outputs": [
    {
     "name": "stdout",
     "output_type": "stream",
     "text": [
      "['apple', 'banana', 'cherry']\n",
      "[1, 2, 3, 4, 5, 6]\n"
     ]
    }
   ],
   "source": [
    "#lists\n",
    "thislist = [\"apple\", \"banana\", \"cherry\"]\n",
    "thatlist = [1,2,3,4,5,6]\n",
    "print(thislist)\n",
    "print(thatlist)"
   ]
  },
  {
   "cell_type": "code",
   "execution_count": 6,
   "metadata": {},
   "outputs": [
    {
     "name": "stdout",
     "output_type": "stream",
     "text": [
      "['apple', 1, 10.3]\n",
      "3\n"
     ]
    }
   ],
   "source": [
    "thislist = [\"apple\", 1, 10.3]\n",
    "print(thislist)\n",
    "print(len(thislist))"
   ]
  },
  {
   "cell_type": "code",
   "execution_count": 4,
   "metadata": {},
   "outputs": [
    {
     "data": {
      "text/plain": [
       "list"
      ]
     },
     "execution_count": 4,
     "metadata": {},
     "output_type": "execute_result"
    }
   ],
   "source": [
    "type(thislist)"
   ]
  },
  {
   "cell_type": "code",
   "execution_count": 12,
   "metadata": {},
   "outputs": [
    {
     "name": "stdout",
     "output_type": "stream",
     "text": [
      "apple\n",
      "['apple', 'cherry']\n",
      "['dove', 'cherry', 'banana', 'apple']\n"
     ]
    }
   ],
   "source": [
    "a = [\"apple\", \"banana\", \"cherry\",\"dove\"]\n",
    "print(a[0])\n",
    "print(a[0:4:2])\n",
    "print(a[4::-1])"
   ]
  },
  {
   "cell_type": "code",
   "execution_count": 17,
   "metadata": {},
   "outputs": [
    {
     "name": "stdout",
     "output_type": "stream",
     "text": [
      "[1, 2, 3, 4, 5, 6, 'apple', 'banana', 'cherry', 'dove']\n"
     ]
    }
   ],
   "source": [
    "a = [\"apple\", \"banana\", \"cherry\",\"dove\"]\n",
    "b = [1,2,3,4,5,6]\n",
    "print(b+a)"
   ]
  },
  {
   "cell_type": "code",
   "execution_count": 15,
   "metadata": {},
   "outputs": [
    {
     "name": "stdout",
     "output_type": "stream",
     "text": [
      "[1, 2, 3, 1, 2, 3]\n"
     ]
    }
   ],
   "source": [
    "b = [1,2,3]\n",
    "print(b*2)"
   ]
  },
  {
   "cell_type": "code",
   "execution_count": 18,
   "metadata": {},
   "outputs": [
    {
     "name": "stdout",
     "output_type": "stream",
     "text": [
      "Enter n =2\n",
      "Enter the name = ram\n",
      "Enter the name = hari\n",
      "['ram', 'hari']\n"
     ]
    }
   ],
   "source": [
    "a = []\n",
    "n = int(input(\"Enter n =\"))\n",
    "for i in range(n):\n",
    "    name = input(\"Enter the name = \")\n",
    "    a = a + [name]\n",
    "    \n",
    "print(a)"
   ]
  },
  {
   "cell_type": "code",
   "execution_count": 2,
   "metadata": {},
   "outputs": [
    {
     "name": "stdout",
     "output_type": "stream",
     "text": [
      "Enter n =5\n",
      "Enter the x = 34\n",
      "Enter the x = 45\n",
      "Enter the x = 56\n",
      "Enter the x = 67\n",
      "Enter the x = 87\n",
      "The list is =  [34, 45, 56, 67, 87]\n",
      "The sum is =  289\n",
      "The max is =  87\n",
      "The min is = 34\n",
      "The avg is = 57.8\n"
     ]
    }
   ],
   "source": [
    "a = []\n",
    "n = int(input(\"Enter n =\"))\n",
    "for i in range(n):\n",
    "    x = int(input(\"Enter the x = \"))\n",
    "    a = a + [x]\n",
    "    \n",
    "print(\"The list is = \", a)\n",
    "print(\"The sum is = \", sum(a))\n",
    "print(\"The max is = \", max(a))\n",
    "print(\"The min is =\",min(a))\n",
    "print(\"The avg is =\", sum(a)/n)"
   ]
  },
  {
   "cell_type": "code",
   "execution_count": 3,
   "metadata": {},
   "outputs": [
    {
     "name": "stdout",
     "output_type": "stream",
     "text": [
      "['1dove', '@cherry', 'Banana', 'apple']\n"
     ]
    }
   ],
   "source": [
    "a = [\"apple\", \"Banana\", \"@cherry\",\"1dove\"]\n",
    "a.sort()\n",
    "print(a)"
   ]
  },
  {
   "cell_type": "code",
   "execution_count": 6,
   "metadata": {},
   "outputs": [
    {
     "name": "stdout",
     "output_type": "stream",
     "text": [
      "['apple', ['ball']]\n"
     ]
    }
   ],
   "source": [
    "#append() adds lists with other lists or int or str\n",
    "a = [\"apple\"]\n",
    "b = [\"ball\"]\n",
    "a.append(b) # means to add b to a  \n",
    "print(a)"
   ]
  },
  {
   "cell_type": "code",
   "execution_count": 7,
   "metadata": {},
   "outputs": [
    {
     "name": "stdout",
     "output_type": "stream",
     "text": [
      "['apple', 'ball']\n"
     ]
    }
   ],
   "source": [
    "a = [\"apple\"]\n",
    "b = \"ball\"\n",
    "a.append(b)\n",
    "print(a)"
   ]
  },
  {
   "cell_type": "code",
   "execution_count": 8,
   "metadata": {},
   "outputs": [
    {
     "name": "stdout",
     "output_type": "stream",
     "text": [
      "[1, 2]\n"
     ]
    }
   ],
   "source": [
    "a = [1]\n",
    "b = 2\n",
    "a.append(b)\n",
    "print(a)"
   ]
  },
  {
   "cell_type": "code",
   "execution_count": 9,
   "metadata": {},
   "outputs": [
    {
     "name": "stdout",
     "output_type": "stream",
     "text": [
      "['apple', 'banana', 'Zebra', 'cherry', 'dove']\n"
     ]
    }
   ],
   "source": [
    "#insert()\n",
    "a = [\"apple\", \"banana\", \"cherry\",\"dove\"]\n",
    "a.insert(2,\"Zebra\")\n",
    "print(a)\n"
   ]
  },
  {
   "cell_type": "code",
   "execution_count": 12,
   "metadata": {},
   "outputs": [
    {
     "name": "stdout",
     "output_type": "stream",
     "text": [
      "0 apple\n",
      "1 banana\n",
      "2 Zebra\n",
      "3 cherry\n",
      "4 dove\n"
     ]
    }
   ],
   "source": [
    "a = ['apple', 'banana', 'Zebra', 'cherry', 'dove']\n",
    "n = len(a)\n",
    "for i in range(n):\n",
    "    print(i, a[i])"
   ]
  },
  {
   "cell_type": "code",
   "execution_count": null,
   "metadata": {},
   "outputs": [],
   "source": []
  }
 ],
 "metadata": {
  "kernelspec": {
   "display_name": "Python 3",
   "language": "python",
   "name": "python3"
  },
  "language_info": {
   "codemirror_mode": {
    "name": "ipython",
    "version": 3
   },
   "file_extension": ".py",
   "mimetype": "text/x-python",
   "name": "python",
   "nbconvert_exporter": "python",
   "pygments_lexer": "ipython3",
   "version": "3.8.5"
  }
 },
 "nbformat": 4,
 "nbformat_minor": 4
}
