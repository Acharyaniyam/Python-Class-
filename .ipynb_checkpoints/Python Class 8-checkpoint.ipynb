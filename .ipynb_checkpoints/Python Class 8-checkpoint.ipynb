{
 "cells": [
  {
   "cell_type": "code",
   "execution_count": 4,
   "metadata": {},
   "outputs": [
    {
     "name": "stdout",
     "output_type": "stream",
     "text": [
      "Enter the value of a = tjer\n"
     ]
    },
    {
     "data": {
      "text/plain": [
       "str"
      ]
     },
     "execution_count": 4,
     "metadata": {},
     "output_type": "execute_result"
    }
   ],
   "source": [
    "a = input(\"Enter the value of a = \")\n",
    "type(a)"
   ]
  },
  {
   "cell_type": "code",
   "execution_count": 1,
   "metadata": {},
   "outputs": [
    {
     "name": "stdout",
     "output_type": "stream",
     "text": [
      "Enter n =2\n",
      "Enter the name = ram\n",
      "Enter the age = 34\n",
      "Enter the address = Kathmandu\n",
      "Enter the name = John\n",
      "Enter the age = 32\n",
      "Enter the address = Connnecticut\n",
      "HEllo, I am ram. I am from Kathmandu. I am 34.\n",
      "HEllo, I am John. I am from Connnecticut. I am 32.\n",
      "\n"
     ]
    }
   ],
   "source": [
    "#string formatting\n",
    "data = \"\"\n",
    "n = int(input(\"Enter n =\"))\n",
    "for i in range(n):\n",
    "    name = input(\"Enter the name = \")\n",
    "    age = int(input(\"Enter the age = \"))\n",
    "    add = input(\"Enter the address = \")\n",
    "    info = f\"HEllo, I am {name}. I am from {add}. I am {age}.\\n\"\n",
    "    data = data +info\n",
    "    \n",
    "print(data)"
   ]
  },
  {
   "cell_type": "code",
   "execution_count": 3,
   "metadata": {},
   "outputs": [
    {
     "name": "stdout",
     "output_type": "stream",
     "text": [
      "HEllo, I am ram. I am from Kathmandu. I am 34.\n",
      "HEllo, I am John. I am from Connnecticut. I am 32.\n",
      "\n"
     ]
    }
   ],
   "source": [
    "print(data)"
   ]
  },
  {
   "cell_type": "code",
   "execution_count": 1,
   "metadata": {},
   "outputs": [
    {
     "name": "stdout",
     "output_type": "stream",
     "text": [
      "Enter any value for search =people\n",
      "Yes\n",
      "people in a is  = 3\n"
     ]
    }
   ],
   "source": [
    "a = \"Democracy is the government of the people, for the people, by the people.\"\n",
    "search = input(\"Enter any value for search =\")\n",
    "if search in a:\n",
    "    print(\"Yes\")\n",
    "    print(f\"{search} in a is  =\", a.count(search)) # Counts the number of times the string is repeated."
   ]
  },
  {
   "cell_type": "code",
   "execution_count": 3,
   "metadata": {},
   "outputs": [
    {
     "name": "stdout",
     "output_type": "stream",
     "text": [
      "Enter any value for search =JOHN\n",
      "No value\n"
     ]
    }
   ],
   "source": [
    "a = \"Democracy is the government of the people, by the people, for the people.\"\n",
    "search = input(\"Enter any value for search =\")\n",
    "alower = a.lower()\n",
    "lower_search = search.lower()\n",
    "if search.lower() in alower:\n",
    "    print(\"Yes\")\n",
    "    print(f\"{search} in a is  =\", a.count(search.lower()))\n",
    "else :\n",
    "    print(\"No value\")"
   ]
  },
  {
   "cell_type": "code",
   "execution_count": 5,
   "metadata": {},
   "outputs": [
    {
     "name": "stdout",
     "output_type": "stream",
     "text": [
      "Enter any value for search = people\n",
      "Enter any value to replace = citizens\n",
      "Democracy is the government of the citizens, by the citizens, for the citizens.\n"
     ]
    }
   ],
   "source": [
    "#a.replace(\"initial value\", \"final value\")(replaces the current value with another value)\n",
    "a = \"Democracy is the government of the people, by the people, for the people.\"\n",
    "search = input(\"Enter any value for search = \")\n",
    "replace_with = input(\"Enter any value to replace = \")\n",
    "b = a.replace(search, replace_with)\n",
    "print(b)"
   ]
  },
  {
   "cell_type": "code",
   "execution_count": 8,
   "metadata": {},
   "outputs": [
    {
     "name": "stdout",
     "output_type": "stream",
     "text": [
      "Enter any value for search =peoplE\n",
      "Enter any value to replace = citizenS\n",
      "Yes\n",
      "democracy is the government of the citizenS, by the citizenS, for the citizenS.\n"
     ]
    }
   ],
   "source": [
    "a = \"Democracy is the government of the people, by the people, for the people.\"\n",
    "search = input(\"Enter any value for search =\")\n",
    "replace_with = input(\"Enter any value to replace = \")\n",
    "alower = a.lower()\n",
    "lower_search = search.lower()\n",
    "if search.lower() in alower:\n",
    "    print(\"Yes\")\n",
    "    b = alower.replace(lower_search,replace_with)\n",
    "    print(b)\n",
    "else :\n",
    "    print(\"No value\")"
   ]
  },
  {
   "cell_type": "code",
   "execution_count": 9,
   "metadata": {},
   "outputs": [
    {
     "name": "stdout",
     "output_type": "stream",
     "text": [
      "['Apple', 'Ball']\n"
     ]
    }
   ],
   "source": [
    "a = \"Apple Ball\"\n",
    "b = a.split()\n",
    "print(b)"
   ]
  },
  {
   "cell_type": "code",
   "execution_count": 19,
   "metadata": {},
   "outputs": [
    {
     "name": "stdout",
     "output_type": "stream",
     "text": [
      "Enter n =3\n",
      "Enter the name = John\n",
      "Enter the age = 23\n",
      "Enter the address = New York\n",
      "Enter the name = Juan\n",
      "Enter the age = 23\n",
      "Enter the address = Guadalajara\n",
      "Enter the name = Niyam\n",
      "Enter the age = 18\n",
      "Enter the address = Kathmandu\n",
      "1 John New York 23.\n",
      "2 Juan Guadalajara 23.\n",
      "3 Niyam Kathmandu 18.\n",
      "\n"
     ]
    }
   ],
   "source": [
    "data = \"\"\n",
    "n = int(input(\"Enter n =\"))\n",
    "for i in range(1,n+1):\n",
    "    name = input(\"Enter the name = \")\n",
    "    age = int(input(\"Enter the age = \"))\n",
    "    add = input(\"Enter the address = \")\n",
    "    info = f\"{i} {name} {add} {age}.\\n\"\n",
    "    data = data +info\n",
    "    \n",
    "print(data)"
   ]
  },
  {
   "cell_type": "code",
   "execution_count": 20,
   "metadata": {},
   "outputs": [
    {
     "name": "stdout",
     "output_type": "stream",
     "text": [
      "1 John New York 23.\n",
      "2 Juan Guadalajara 23.\n",
      "3 Niyam Kathmandu 18.\n",
      "\n"
     ]
    }
   ],
   "source": [
    "print(data)"
   ]
  },
  {
   "cell_type": "code",
   "execution_count": 21,
   "metadata": {},
   "outputs": [
    {
     "name": "stdout",
     "output_type": "stream",
     "text": [
      "['1 John New York 23.', '2 Juan Guadalajara 23.', '3 Niyam Kathmandu 18.', '']\n"
     ]
    }
   ],
   "source": [
    "b = data.split(\"\\n\")\n",
    "print(b)\n"
   ]
  },
  {
   "cell_type": "code",
   "execution_count": 24,
   "metadata": {},
   "outputs": [
    {
     "name": "stdout",
     "output_type": "stream",
     "text": [
      "1 John New York 23.\n"
     ]
    }
   ],
   "source": [
    "print(b[0])"
   ]
  },
  {
   "cell_type": "code",
   "execution_count": null,
   "metadata": {},
   "outputs": [],
   "source": []
  }
 ],
 "metadata": {
  "kernelspec": {
   "display_name": "Python 3",
   "language": "python",
   "name": "python3"
  },
  "language_info": {
   "codemirror_mode": {
    "name": "ipython",
    "version": 3
   },
   "file_extension": ".py",
   "mimetype": "text/x-python",
   "name": "python",
   "nbconvert_exporter": "python",
   "pygments_lexer": "ipython3",
   "version": "3.8.5"
  }
 },
 "nbformat": 4,
 "nbformat_minor": 4
}
