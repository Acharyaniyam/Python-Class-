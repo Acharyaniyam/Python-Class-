{
 "cells": [
  {
   "cell_type": "code",
   "execution_count": 2,
   "metadata": {},
   "outputs": [
    {
     "name": "stdout",
     "output_type": "stream",
     "text": [
      "The file is already there.\n"
     ]
    }
   ],
   "source": [
    "try:\n",
    "    b = open('class530.txt', 'x')\n",
    "    b.close()\n",
    "except:\n",
    "    print(\"The file is already there.\")"
   ]
  },
  {
   "cell_type": "code",
   "execution_count": 6,
   "metadata": {},
   "outputs": [
    {
     "name": "stdout",
     "output_type": "stream",
     "text": [
      "Hello World!!!\n",
      "\n",
      "Hello World!!!\n",
      "\n"
     ]
    }
   ],
   "source": [
    "\n",
    "#read() reading content from file \n",
    "b = open ('class530.txt', 'r')\n",
    "print(b.readline())\n",
    "print(b.readline())"
   ]
  },
  {
   "cell_type": "raw",
   "metadata": {},
   "source": [
    "#read() reading content from file \n"
   ]
  },
  {
   "cell_type": "code",
   "execution_count": 4,
   "metadata": {},
   "outputs": [
    {
     "name": "stdout",
     "output_type": "stream",
     "text": [
      "Hello World!!!\n",
      "Hello World!!!\n",
      "Hello World!!!\n",
      "Hello World!!!\n",
      "Hello World!!!\n"
     ]
    }
   ],
   "source": [
    "#read() reading content from file \n",
    "b = open('class530.txt')\n",
    "c = b.read()\n",
    "print(c)"
   ]
  },
  {
   "cell_type": "code",
   "execution_count": 12,
   "metadata": {},
   "outputs": [
    {
     "name": "stdout",
     "output_type": "stream",
     "text": [
      "Enter how many people = 5\n",
      "Enter name = Ram\n",
      "Enter address = Kathmandu\n",
      "Enter the phone number = 9887464873\n",
      "Enter Blood Group = O-\n",
      "Enter the age = 45\n",
      "Enter name = Hari\n",
      "Enter address = Patan\n",
      "Enter the phone number = 987897353\n",
      "Enter Blood Group = A-\n",
      "Enter the age = 23\n",
      "Enter name = Johnathan\n",
      "Enter address = Uganda\n",
      "Enter the phone number = 334324876\n",
      "Enter Blood Group = B+\n",
      "Enter the age = 19\n",
      "Enter name = David\n",
      "Enter address = California\n",
      "Enter the phone number = 1847329843\n",
      "Enter Blood Group = A+\n",
      "Enter the age = 34\n",
      "Enter name = Andrea\n",
      "Enter address = Mexico\n",
      "Enter the phone number = 98473392323\n",
      "Enter Blood Group = A+\n",
      "Enter the age = 18\n"
     ]
    }
   ],
   "source": [
    "b = open('class530.csv','w')\n",
    "b.write(\"Sn,Name,Address,Age,Phone,Blood Group\\n\")\n",
    "data = \"\"\n",
    "n = int(input(\"Enter how many people = \"))\n",
    "for i in range(1,n+1):\n",
    "    name = input(\"Enter name = \")\n",
    "    add = input(\"Enter address = \")\n",
    "    phone = int(input(\"Enter the phone number = \"))\n",
    "    bgroup = input(\"Enter Blood Group = \")\n",
    "    age = int(input(\"Enter the age = \"))\n",
    "    info = f\"{i},{name},{add},{age},{phone},{bgroup}\\n\"\n",
    "    data = data+info\n",
    "    \n",
    "b.write(data)\n",
    "b.close()\n",
    "    \n"
   ]
  },
  {
   "cell_type": "code",
   "execution_count": 13,
   "metadata": {},
   "outputs": [
    {
     "name": "stdout",
     "output_type": "stream",
     "text": [
      "Sn,Name,Address,Age,Phone,Blood Group\n",
      "1,Ram,Kathmandu,45,9887464873,O-\n",
      "2,Hari,Patan,23,987897353,A-\n",
      "3,Johnathan,Uganda,19,334324876,B+\n",
      "4,David,California,34,1847329843,A+\n",
      "5,Andrea,Mexico,18,98473392323,A+\n",
      "\n"
     ]
    }
   ],
   "source": [
    "b = open('class530.csv','r')\n",
    "c = b.read()\n",
    "print(c)\n",
    "b.close()"
   ]
  },
  {
   "cell_type": "code",
   "execution_count": 17,
   "metadata": {},
   "outputs": [
    {
     "name": "stdout",
     "output_type": "stream",
     "text": [
      "['Sn,Name,Address,Age,Phone,Blood Group', '1,Ram,Kathmandu,45,9887464873,O-', '2,Hari,Patan,23,987897353,A-', '3,Johnathan,Uganda,19,334324876,B+', '4,David,California,34,1847329843,A+', '5,Andrea,Mexico,18,98473392323,A+', '']\n"
     ]
    }
   ],
   "source": [
    "d = c.split('\\n')\n",
    "print(d)"
   ]
  },
  {
   "cell_type": "code",
   "execution_count": 20,
   "metadata": {},
   "outputs": [
    {
     "name": "stdout",
     "output_type": "stream",
     "text": [
      "['2,Hari,Patan,23,987897353,A-', '3,Johnathan,Uganda,19,334324876,B+', '4,David,California,34,1847329843,A+', '5,Andrea,Mexico,18,98473392323,A+']\n"
     ]
    }
   ],
   "source": [
    "e = d[2:-1]\n",
    "print(e)"
   ]
  },
  {
   "cell_type": "code",
   "execution_count": 21,
   "metadata": {},
   "outputs": [
    {
     "name": "stdout",
     "output_type": "stream",
     "text": [
      "[['2', 'Hari', 'Patan', '23', '987897353', 'A-'], ['3', 'Johnathan', 'Uganda', '19', '334324876', 'B+'], ['4', 'David', 'California', '34', '1847329843', 'A+'], ['5', 'Andrea', 'Mexico', '18', '98473392323', 'A+']]\n"
     ]
    }
   ],
   "source": [
    "final_data = []\n",
    "for i in e:\n",
    "    x = i.split(',')\n",
    "    final_data.append(x)\n",
    "print(final_data)"
   ]
  },
  {
   "cell_type": "code",
   "execution_count": 15,
   "metadata": {},
   "outputs": [
    {
     "name": "stdout",
     "output_type": "stream",
     "text": [
      "         Name     Address  Age        Phone Blood Group\n",
      "Sn                                                     \n",
      "1         Ram   Kathmandu   45   9887464873          O-\n",
      "2        Hari       Patan   23    987897353          A-\n",
      "3   Johnathan      Uganda   19    334324876          B+\n",
      "4       David  California   34   1847329843          A+\n",
      "5      Andrea      Mexico   18  98473392323          A+\n"
     ]
    }
   ],
   "source": [
    "import pandas as pd\n",
    "df = pd.read_csv('class530.csv', index_col = 'Sn')\n",
    "print(df)"
   ]
  },
  {
   "cell_type": "code",
   "execution_count": 16,
   "metadata": {},
   "outputs": [
    {
     "name": "stdout",
     "output_type": "stream",
     "text": [
      "         Name     Address\n",
      "Sn                       \n",
      "1         Ram   Kathmandu\n",
      "2        Hari       Patan\n",
      "3   Johnathan      Uganda\n",
      "4       David  California\n",
      "5      Andrea      Mexico\n"
     ]
    }
   ],
   "source": [
    "import pandas as pd\n",
    "l = ['Sn','Name','Address']\n",
    "df = pd.read_csv('class530.csv', index_col = 'Sn', usecols = l)\n",
    "print(df)"
   ]
  },
  {
   "cell_type": "code",
   "execution_count": 24,
   "metadata": {},
   "outputs": [
    {
     "data": {
      "text/html": [
       "<div>\n",
       "<style scoped>\n",
       "    .dataframe tbody tr th:only-of-type {\n",
       "        vertical-align: middle;\n",
       "    }\n",
       "\n",
       "    .dataframe tbody tr th {\n",
       "        vertical-align: top;\n",
       "    }\n",
       "\n",
       "    .dataframe thead th {\n",
       "        text-align: right;\n",
       "    }\n",
       "</style>\n",
       "<table border=\"1\" class=\"dataframe\">\n",
       "  <thead>\n",
       "    <tr style=\"text-align: right;\">\n",
       "      <th></th>\n",
       "      <th>Name</th>\n",
       "      <th>Address</th>\n",
       "      <th>Age</th>\n",
       "      <th>Phone</th>\n",
       "    </tr>\n",
       "    <tr>\n",
       "      <th>Sn</th>\n",
       "      <th></th>\n",
       "      <th></th>\n",
       "      <th></th>\n",
       "      <th></th>\n",
       "    </tr>\n",
       "  </thead>\n",
       "  <tbody>\n",
       "    <tr>\n",
       "      <th>1</th>\n",
       "      <td>Ram</td>\n",
       "      <td>Kathmandu</td>\n",
       "      <td>45</td>\n",
       "      <td>9887464873</td>\n",
       "    </tr>\n",
       "    <tr>\n",
       "      <th>2</th>\n",
       "      <td>Hari</td>\n",
       "      <td>Patan</td>\n",
       "      <td>23</td>\n",
       "      <td>987897353</td>\n",
       "    </tr>\n",
       "    <tr>\n",
       "      <th>3</th>\n",
       "      <td>Johnathan</td>\n",
       "      <td>Uganda</td>\n",
       "      <td>19</td>\n",
       "      <td>334324876</td>\n",
       "    </tr>\n",
       "    <tr>\n",
       "      <th>4</th>\n",
       "      <td>David</td>\n",
       "      <td>California</td>\n",
       "      <td>34</td>\n",
       "      <td>1847329843</td>\n",
       "    </tr>\n",
       "    <tr>\n",
       "      <th>5</th>\n",
       "      <td>Andrea</td>\n",
       "      <td>Mexico</td>\n",
       "      <td>18</td>\n",
       "      <td>98473392323</td>\n",
       "    </tr>\n",
       "  </tbody>\n",
       "</table>\n",
       "</div>"
      ],
      "text/plain": [
       "         Name     Address  Age        Phone\n",
       "Sn                                         \n",
       "1         Ram   Kathmandu   45   9887464873\n",
       "2        Hari       Patan   23    987897353\n",
       "3   Johnathan      Uganda   19    334324876\n",
       "4       David  California   34   1847329843\n",
       "5      Andrea      Mexico   18  98473392323"
      ]
     },
     "execution_count": 24,
     "metadata": {},
     "output_type": "execute_result"
    }
   ],
   "source": [
    "import pandas as pd\n",
    "df = pd.read_csv('class530.csv', index_col = 'Sn')\n",
    "df.iloc[0:5,0:4] #[row,coloumn] normal index ranging"
   ]
  },
  {
   "cell_type": "code",
   "execution_count": 28,
   "metadata": {},
   "outputs": [
    {
     "data": {
      "text/html": [
       "<div>\n",
       "<style scoped>\n",
       "    .dataframe tbody tr th:only-of-type {\n",
       "        vertical-align: middle;\n",
       "    }\n",
       "\n",
       "    .dataframe tbody tr th {\n",
       "        vertical-align: top;\n",
       "    }\n",
       "\n",
       "    .dataframe thead th {\n",
       "        text-align: right;\n",
       "    }\n",
       "</style>\n",
       "<table border=\"1\" class=\"dataframe\">\n",
       "  <thead>\n",
       "    <tr style=\"text-align: right;\">\n",
       "      <th></th>\n",
       "      <th>Age</th>\n",
       "      <th>Phone</th>\n",
       "    </tr>\n",
       "    <tr>\n",
       "      <th>Sn</th>\n",
       "      <th></th>\n",
       "      <th></th>\n",
       "    </tr>\n",
       "  </thead>\n",
       "  <tbody>\n",
       "    <tr>\n",
       "      <th>3</th>\n",
       "      <td>19</td>\n",
       "      <td>334324876</td>\n",
       "    </tr>\n",
       "    <tr>\n",
       "      <th>4</th>\n",
       "      <td>34</td>\n",
       "      <td>1847329843</td>\n",
       "    </tr>\n",
       "    <tr>\n",
       "      <th>5</th>\n",
       "      <td>18</td>\n",
       "      <td>98473392323</td>\n",
       "    </tr>\n",
       "  </tbody>\n",
       "</table>\n",
       "</div>"
      ],
      "text/plain": [
       "    Age        Phone\n",
       "Sn                  \n",
       "3    19    334324876\n",
       "4    34   1847329843\n",
       "5    18  98473392323"
      ]
     },
     "execution_count": 28,
     "metadata": {},
     "output_type": "execute_result"
    }
   ],
   "source": [
    "import pandas as pd\n",
    "df = pd.read_csv('class530.csv', index_col = 'Sn')\n",
    "df.iloc[2:5,2:4] #[row,coloumn] (normal index ranging, iloc is for slicing rows and coloumns)"
   ]
  },
  {
   "cell_type": "code",
   "execution_count": 35,
   "metadata": {},
   "outputs": [
    {
     "data": {
      "text/html": [
       "<div>\n",
       "<style scoped>\n",
       "    .dataframe tbody tr th:only-of-type {\n",
       "        vertical-align: middle;\n",
       "    }\n",
       "\n",
       "    .dataframe tbody tr th {\n",
       "        vertical-align: top;\n",
       "    }\n",
       "\n",
       "    .dataframe thead th {\n",
       "        text-align: right;\n",
       "    }\n",
       "</style>\n",
       "<table border=\"1\" class=\"dataframe\">\n",
       "  <thead>\n",
       "    <tr style=\"text-align: right;\">\n",
       "      <th></th>\n",
       "      <th>Name</th>\n",
       "      <th>Address</th>\n",
       "      <th>Age</th>\n",
       "      <th>Phone</th>\n",
       "      <th>Blood Group</th>\n",
       "    </tr>\n",
       "    <tr>\n",
       "      <th>Sn</th>\n",
       "      <th></th>\n",
       "      <th></th>\n",
       "      <th></th>\n",
       "      <th></th>\n",
       "      <th></th>\n",
       "    </tr>\n",
       "  </thead>\n",
       "  <tbody>\n",
       "  </tbody>\n",
       "</table>\n",
       "</div>"
      ],
      "text/plain": [
       "Empty DataFrame\n",
       "Columns: [Name, Address, Age, Phone, Blood Group]\n",
       "Index: []"
      ]
     },
     "execution_count": 35,
     "metadata": {},
     "output_type": "execute_result"
    }
   ],
   "source": [
    "import pandas as pd\n",
    "df = pd.read_csv('class530.csv', index_col = 'Sn')\n",
    "df.loc[\"Ram\":\"Johnathan\"] #df.loc (loc means localizer, loc is only for slicing rows)"
   ]
  },
  {
   "cell_type": "code",
   "execution_count": 36,
   "metadata": {},
   "outputs": [
    {
     "data": {
      "text/html": [
       "<div>\n",
       "<style scoped>\n",
       "    .dataframe tbody tr th:only-of-type {\n",
       "        vertical-align: middle;\n",
       "    }\n",
       "\n",
       "    .dataframe tbody tr th {\n",
       "        vertical-align: top;\n",
       "    }\n",
       "\n",
       "    .dataframe thead th {\n",
       "        text-align: right;\n",
       "    }\n",
       "</style>\n",
       "<table border=\"1\" class=\"dataframe\">\n",
       "  <thead>\n",
       "    <tr style=\"text-align: right;\">\n",
       "      <th></th>\n",
       "      <th>Name</th>\n",
       "      <th>Address</th>\n",
       "      <th>Age</th>\n",
       "      <th>Phone</th>\n",
       "      <th>Blood Group</th>\n",
       "    </tr>\n",
       "    <tr>\n",
       "      <th>Sn</th>\n",
       "      <th></th>\n",
       "      <th></th>\n",
       "      <th></th>\n",
       "      <th></th>\n",
       "      <th></th>\n",
       "    </tr>\n",
       "  </thead>\n",
       "  <tbody>\n",
       "    <tr>\n",
       "      <th>1</th>\n",
       "      <td>Ram</td>\n",
       "      <td>Kathmandu</td>\n",
       "      <td>45</td>\n",
       "      <td>9887464873</td>\n",
       "      <td>O-</td>\n",
       "    </tr>\n",
       "    <tr>\n",
       "      <th>4</th>\n",
       "      <td>David</td>\n",
       "      <td>California</td>\n",
       "      <td>34</td>\n",
       "      <td>1847329843</td>\n",
       "      <td>A+</td>\n",
       "    </tr>\n",
       "  </tbody>\n",
       "</table>\n",
       "</div>"
      ],
      "text/plain": [
       "     Name     Address  Age       Phone Blood Group\n",
       "Sn                                                \n",
       "1     Ram   Kathmandu   45  9887464873          O-\n",
       "4   David  California   34  1847329843          A+"
      ]
     },
     "execution_count": 36,
     "metadata": {},
     "output_type": "execute_result"
    }
   ],
   "source": [
    "#data Filtering\n",
    "import pandas as pd\n",
    "df = pd.read_csv('class530.csv', index_col = 'Sn')\n",
    "df[df['Age'] > 30]"
   ]
  },
  {
   "cell_type": "code",
   "execution_count": 37,
   "metadata": {},
   "outputs": [
    {
     "data": {
      "text/html": [
       "<div>\n",
       "<style scoped>\n",
       "    .dataframe tbody tr th:only-of-type {\n",
       "        vertical-align: middle;\n",
       "    }\n",
       "\n",
       "    .dataframe tbody tr th {\n",
       "        vertical-align: top;\n",
       "    }\n",
       "\n",
       "    .dataframe thead th {\n",
       "        text-align: right;\n",
       "    }\n",
       "</style>\n",
       "<table border=\"1\" class=\"dataframe\">\n",
       "  <thead>\n",
       "    <tr style=\"text-align: right;\">\n",
       "      <th></th>\n",
       "      <th>Name</th>\n",
       "      <th>Address</th>\n",
       "      <th>Age</th>\n",
       "      <th>Phone</th>\n",
       "      <th>Blood Group</th>\n",
       "    </tr>\n",
       "    <tr>\n",
       "      <th>Sn</th>\n",
       "      <th></th>\n",
       "      <th></th>\n",
       "      <th></th>\n",
       "      <th></th>\n",
       "      <th></th>\n",
       "    </tr>\n",
       "  </thead>\n",
       "  <tbody>\n",
       "    <tr>\n",
       "      <th>1</th>\n",
       "      <td>Ram</td>\n",
       "      <td>Kathmandu</td>\n",
       "      <td>45</td>\n",
       "      <td>9887464873</td>\n",
       "      <td>O-</td>\n",
       "    </tr>\n",
       "  </tbody>\n",
       "</table>\n",
       "</div>"
      ],
      "text/plain": [
       "   Name    Address  Age       Phone Blood Group\n",
       "Sn                                             \n",
       "1   Ram  Kathmandu   45  9887464873          O-"
      ]
     },
     "execution_count": 37,
     "metadata": {},
     "output_type": "execute_result"
    }
   ],
   "source": [
    "import pandas as pd\n",
    "df = pd.read_csv('class530.csv', index_col = 'Sn')\n",
    "df[(df['Age'] > 30) & (df['Address'] == 'Kathmandu')]"
   ]
  },
  {
   "cell_type": "code",
   "execution_count": 38,
   "metadata": {},
   "outputs": [],
   "source": [
    "import pandas as pd\n",
    "df = pd.read_csv('class530.csv', index_col = 'Sn')\n",
    "df1 = df[(df['Age'] > 30) & (df['Address'] == 'Kathmandu')]\n",
    "df1.to_csv('newdat.csv') #creates a new file and inserts the filtered data from df1 to 'newdat.csv'"
   ]
  },
  {
   "cell_type": "code",
   "execution_count": 39,
   "metadata": {},
   "outputs": [
    {
     "data": {
      "text/html": [
       "<div>\n",
       "<style scoped>\n",
       "    .dataframe tbody tr th:only-of-type {\n",
       "        vertical-align: middle;\n",
       "    }\n",
       "\n",
       "    .dataframe tbody tr th {\n",
       "        vertical-align: top;\n",
       "    }\n",
       "\n",
       "    .dataframe thead th {\n",
       "        text-align: right;\n",
       "    }\n",
       "</style>\n",
       "<table border=\"1\" class=\"dataframe\">\n",
       "  <thead>\n",
       "    <tr style=\"text-align: right;\">\n",
       "      <th></th>\n",
       "      <th>Name</th>\n",
       "      <th>Age</th>\n",
       "      <th>Address</th>\n",
       "    </tr>\n",
       "  </thead>\n",
       "  <tbody>\n",
       "    <tr>\n",
       "      <th>0</th>\n",
       "      <td>Ram</td>\n",
       "      <td>45</td>\n",
       "      <td>Kathmandu</td>\n",
       "    </tr>\n",
       "    <tr>\n",
       "      <th>1</th>\n",
       "      <td>hari</td>\n",
       "      <td>56</td>\n",
       "      <td>Patan</td>\n",
       "    </tr>\n",
       "    <tr>\n",
       "      <th>2</th>\n",
       "      <td>Gita</td>\n",
       "      <td>67</td>\n",
       "      <td>Lalitpur</td>\n",
       "    </tr>\n",
       "  </tbody>\n",
       "</table>\n",
       "</div>"
      ],
      "text/plain": [
       "   Name  Age    Address\n",
       "0   Ram   45  Kathmandu\n",
       "1  hari   56      Patan\n",
       "2  Gita   67   Lalitpur"
      ]
     },
     "execution_count": 39,
     "metadata": {},
     "output_type": "execute_result"
    }
   ],
   "source": [
    "import pandas as pd\n",
    "a = {\"Name\":['Ram', 'hari', 'Gita'], \n",
    "    \"Age\":[45,56,67],\n",
    "    \"Address\":[\"Kathmandu\", \"Patan\", \"Lalitpur\"]}\n",
    "df = pd.DataFrame(a)\n",
    "df.to_csv('small_data.csv')\n",
    "df"
   ]
  },
  {
   "cell_type": "code",
   "execution_count": 13,
   "metadata": {},
   "outputs": [
    {
     "data": {
      "text/plain": [
       "39"
      ]
     },
     "execution_count": 13,
     "metadata": {},
     "output_type": "execute_result"
    }
   ],
   "source": [
    "import csv\n",
    "fields = [6,\"Andy\",\"Philadelphia\",21,97473392323,\"B+\"]\n",
    "g= open('class530.csv','a') \n",
    "x = csv.writer(g)\n",
    "x.writerow(fields)\n"
   ]
  },
  {
   "cell_type": "code",
   "execution_count": 28,
   "metadata": {},
   "outputs": [
    {
     "name": "stdout",
     "output_type": "stream",
     "text": [
      "ENter n = 2\n",
      "Enter the name of the product = Rose\n",
      "Enter the price = 300\n",
      "Enter the quantity =2\n",
      "Enter the name of the product = Hibiscis\n",
      "Enter the price = 400\n",
      "Enter the quantity =4\n"
     ]
    }
   ],
   "source": [
    "n = int(input(\"ENter n = \"))\n",
    "f = open('bill.csv','a')\n",
    "x = csv.writer(f)\n",
    "x.writerow(['Sn','Name','Price','Quantity','Total'])\n",
    "for i in range(1,n+1):\n",
    "    try:\n",
    "        name = input(\"Enter the name of the product = \")\n",
    "        price = int(input(\"Enter the price = \"))\n",
    "        quantity = int(input(\"Enter the quantity =\"))\n",
    "    except:\n",
    "        print(\"Invalid data.\")\n",
    "    total = price*quantity\n",
    "    a = [i, name, price, quantity, total]\n",
    "    x.writerow(a)\n"
   ]
  },
  {
   "cell_type": "code",
   "execution_count": 29,
   "metadata": {},
   "outputs": [
    {
     "data": {
      "text/html": [
       "<div>\n",
       "<style scoped>\n",
       "    .dataframe tbody tr th:only-of-type {\n",
       "        vertical-align: middle;\n",
       "    }\n",
       "\n",
       "    .dataframe tbody tr th {\n",
       "        vertical-align: top;\n",
       "    }\n",
       "\n",
       "    .dataframe thead th {\n",
       "        text-align: right;\n",
       "    }\n",
       "</style>\n",
       "<table border=\"1\" class=\"dataframe\">\n",
       "  <thead>\n",
       "    <tr style=\"text-align: right;\">\n",
       "      <th></th>\n",
       "      <th>Sn</th>\n",
       "      <th>Name</th>\n",
       "      <th>Price</th>\n",
       "      <th>Quantity</th>\n",
       "      <th>Total</th>\n",
       "    </tr>\n",
       "  </thead>\n",
       "  <tbody>\n",
       "    <tr>\n",
       "      <th>0</th>\n",
       "      <td>1</td>\n",
       "      <td>Rose</td>\n",
       "      <td>300</td>\n",
       "      <td>3</td>\n",
       "      <td>900</td>\n",
       "    </tr>\n",
       "    <tr>\n",
       "      <th>1</th>\n",
       "      <td>2</td>\n",
       "      <td>Hibiscus</td>\n",
       "      <td>400</td>\n",
       "      <td>3</td>\n",
       "      <td>1200</td>\n",
       "    </tr>\n",
       "  </tbody>\n",
       "</table>\n",
       "</div>"
      ],
      "text/plain": [
       "   Sn      Name  Price  Quantity  Total\n",
       "0   1      Rose    300         3    900\n",
       "1   2  Hibiscus    400         3   1200"
      ]
     },
     "execution_count": 29,
     "metadata": {},
     "output_type": "execute_result"
    }
   ],
   "source": [
    "import pandas as pd\n",
    "df = pd.read_csv('bill.csv')\n",
    "df"
   ]
  },
  {
   "cell_type": "code",
   "execution_count": 30,
   "metadata": {},
   "outputs": [
    {
     "name": "stdout",
     "output_type": "stream",
     "text": [
      "{None: ['Sn', 'Name', 'Price', 'Quantity', 'Total']}\n",
      "{None: ['1', 'Rose', '300', '3', '900']}\n",
      "{None: ['2', 'Hibiscus', '400', '3', '1200']}\n"
     ]
    }
   ],
   "source": [
    "#Changing a csv file into a list inside dictionary\n",
    "import csv\n",
    "f = open('bill.csv')\n",
    "reader = csv.DictReader(f)\n",
    "for row in reader:\n",
    "    print(row)\n",
    "f.close()    \n"
   ]
  },
  {
   "cell_type": "code",
   "execution_count": 36,
   "metadata": {},
   "outputs": [],
   "source": [
    "#chaging a dictionary inside list data into a csv file!\n",
    "import csv \n",
    "csv_columns = [\"Name\",\"Age\",\"Address\"]\n",
    "dict = [\n",
    "    {'Name':'Aayush', 'Age':23, 'Address':'KAthamandu'},\n",
    "    {'Name':'Ram', 'Age':43, 'Address':'Patan'}\n",
    "]\n",
    "f = open('data.csv', 'w')\n",
    "writer = csv.DictWriter(f,fieldnames =csv_columns)\n",
    "writer.writeheader()\n",
    "for data in dict:\n",
    "    writer.writerow(data)"
   ]
  },
  {
   "cell_type": "code",
   "execution_count": null,
   "metadata": {},
   "outputs": [],
   "source": []
  }
 ],
 "metadata": {
  "kernelspec": {
   "display_name": "Python 3",
   "language": "python",
   "name": "python3"
  },
  "language_info": {
   "codemirror_mode": {
    "name": "ipython",
    "version": 3
   },
   "file_extension": ".py",
   "mimetype": "text/x-python",
   "name": "python",
   "nbconvert_exporter": "python",
   "pygments_lexer": "ipython3",
   "version": "3.8.5"
  }
 },
 "nbformat": 4,
 "nbformat_minor": 4
}
