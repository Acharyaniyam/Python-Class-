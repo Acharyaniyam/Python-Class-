{
 "cells": [
  {
   "cell_type": "code",
   "execution_count": null,
   "metadata": {},
   "outputs": [],
   "source": [
    "def <function>():  Defines a funciton\n",
    "    <operation> \n",
    "<function>()"
   ]
  },
  {
   "cell_type": "code",
   "execution_count": 2,
   "metadata": {},
   "outputs": [
    {
     "name": "stdout",
     "output_type": "stream",
     "text": [
      "Hello World\n"
     ]
    }
   ],
   "source": [
    "def hello():\n",
    "  print(\"Hello World\")\n",
    "    \n",
    "hello()"
   ]
  },
  {
   "cell_type": "code",
   "execution_count": 5,
   "metadata": {},
   "outputs": [
    {
     "name": "stdout",
     "output_type": "stream",
     "text": [
      "Enter l = 23\n",
      "Enter b = 23\n",
      "ENter h = 23\n",
      "The volume is =  12167\n"
     ]
    }
   ],
   "source": [
    "# Function with no argument and no return type\n",
    "def cal():\n",
    "    l = int(input(\"Enter l = \"))\n",
    "    b = int(input(\"Enter b = \"))\n",
    "    h = int(input(\"ENter h = \"))\n",
    "    v = l*b*h\n",
    "    print(\"The volume is = \", v)\n",
    "    \n",
    "cal()"
   ]
  },
  {
   "cell_type": "code",
   "execution_count": null,
   "metadata": {},
   "outputs": [],
   "source": [
    "#Function without arguement and no return type\n",
    "def caks():\n",
    "  p = float(input(\"Enter p =\"))\n",
    "  t = float(input(\"Enter t = \"))\n",
    "  r = float(input(\"Enter r = \"))\n",
    "  i = P*t*r/100\n",
    "  print(\"The value of i  = \", i)\n",
    "\n",
    "n = int(input(\"Enter how many times to calculate = \"))\n",
    "for i in range(n):\n",
    " caks()  "
   ]
  },
  {
   "cell_type": "code",
   "execution_count": null,
   "metadata": {},
   "outputs": [],
   "source": [
    "# Function with no argument and no return type\n",
    "l = int(input(\"Enter l = \")) #global variable\n",
    "b = int(input(\"Enter b = \"))\n",
    "h = int(input(\"ENter h = \"))\n",
    "def cal():\n",
    "    v = l*b*h\n",
    "    print(\"The volume is = \", v)\n",
    "    \n",
    "cal()\n",
    "print(l,b,h)"
   ]
  },
  {
   "cell_type": "code",
   "execution_count": null,
   "metadata": {},
   "outputs": [],
   "source": [
    "#Function with argument and no return type \n",
    "def hello(x): # x is intiatilized, it is the parameter.\n",
    "    print(x)\n",
    "\n",
    "hello(\"Hello World\") # X holds the argument"
   ]
  },
  {
   "cell_type": "code",
   "execution_count": null,
   "metadata": {},
   "outputs": [],
   "source": [
    "##Function with argument and no return type \n",
    "def cal(l,b,h):\n",
    "    v = l*b*h\n",
    "    print(\"The volume is = \", v)\n",
    "\n",
    "l = int(input(\"Enter l = \")) #global variable\n",
    "b = int(input(\"Enter b = \"))\n",
    "h = int(input(\"ENter h = \"))\n",
    "cal(l,b,h)"
   ]
  },
  {
   "cell_type": "code",
   "execution_count": null,
   "metadata": {},
   "outputs": [],
   "source": [
    "##Function with argument and no return type \n",
    "def cal(x,y,z):\n",
    "    global v\n",
    "    v = x*y*z # v is global.\n",
    "   \n",
    "\n",
    "l = int(input(\"Enter l = \")) #global variable\n",
    "b = int(input(\"Enter b = \"))\n",
    "h = int(input(\"ENter h = \"))\n",
    "cal(l,b,h)\n",
    "print(\"The volume is = \", v)\n"
   ]
  },
  {
   "cell_type": "code",
   "execution_count": 3,
   "metadata": {},
   "outputs": [
    {
     "name": "stdout",
     "output_type": "stream",
     "text": [
      "20\n"
     ]
    }
   ],
   "source": [
    "##Function with argument and no return type\n",
    "def area(x,y):\n",
    "    a =x * y\n",
    "    print(a)\n",
    "    \n",
    "l =10 \n",
    "b =2\n",
    "area(l,b)"
   ]
  },
  {
   "cell_type": "code",
   "execution_count": 2,
   "metadata": {},
   "outputs": [
    {
     "name": "stdout",
     "output_type": "stream",
     "text": [
      "50\n"
     ]
    }
   ],
   "source": [
    "def area(x,y=5):\n",
    "    a =x * y\n",
    "    print(a)\n",
    "    \n",
    "l =10 \n",
    "b =2\n",
    "area(l)"
   ]
  },
  {
   "cell_type": "code",
   "execution_count": 6,
   "metadata": {},
   "outputs": [
    {
     "name": "stdout",
     "output_type": "stream",
     "text": [
      "20\n"
     ]
    }
   ],
   "source": [
    "def area(x=4,y=5):\n",
    "    a =x * y\n",
    "    print(a)\n",
    "    \n",
    "l =10 \n",
    "b =2\n",
    "area(10,2)"
   ]
  },
  {
   "cell_type": "code",
   "execution_count": 8,
   "metadata": {},
   "outputs": [
    {
     "name": "stdout",
     "output_type": "stream",
     "text": [
      "Enter name = Name\n",
      "Enter age = 23\n",
      "Enter address = kathmandu\n",
      "Hello, my name is NameI am from kathmanduI am 23\n"
     ]
    }
   ],
   "source": [
    "##Function with argument and no return type\n",
    "def info(c):\n",
    "    x,y,z = c # making an array 'c'\n",
    "    a = \"Hello, my name is \" +x+ \"I am from \"+z+ \"I am \"+str(y)\n",
    "    print(a)\n",
    "    \n",
    "name = input(\"Enter name = \")\n",
    "age = int(input(\"Enter age = \"))\n",
    "add = input(\"Enter address = \")\n",
    "b = [name,age,add] # making an array 'b'\n",
    "info(b)"
   ]
  },
  {
   "cell_type": "code",
   "execution_count": 10,
   "metadata": {},
   "outputs": [
    {
     "name": "stdout",
     "output_type": "stream",
     "text": [
      "200\n"
     ]
    }
   ],
   "source": [
    "##Function with no argument and return type\n",
    "def cal():\n",
    "    l = 10\n",
    "    b = 20\n",
    "    a = l*b\n",
    "    return a\n",
    "\n",
    "print(cal())\n",
    "\n"
   ]
  },
  {
   "cell_type": "code",
   "execution_count": 11,
   "metadata": {},
   "outputs": [
    {
     "name": "stdout",
     "output_type": "stream",
     "text": [
      "4000\n"
     ]
    }
   ],
   "source": [
    "##Function with no argument and return type\n",
    "def cal():\n",
    "    l = 10\n",
    "    b = 20\n",
    "    a = l*b\n",
    "    return a\n",
    "\n",
    "h = 20\n",
    "v =cal()*h\n",
    "print(v)"
   ]
  },
  {
   "cell_type": "code",
   "execution_count": 13,
   "metadata": {},
   "outputs": [
    {
     "name": "stdout",
     "output_type": "stream",
     "text": [
      "The area is =  200\n",
      "The volume is =  600\n"
     ]
    }
   ],
   "source": [
    "def area():\n",
    "    l = 10\n",
    "    b = 20\n",
    "    a = l*b\n",
    "    return a\n",
    "\n",
    "def volume():\n",
    "    h = 3\n",
    "    v = area()*h\n",
    "    return v\n",
    "\n",
    "print(\"The area is = \", area())\n",
    "print(\"The volume is = \", volume())"
   ]
  },
  {
   "cell_type": "code",
   "execution_count": null,
   "metadata": {},
   "outputs": [],
   "source": []
  }
 ],
 "metadata": {
  "kernelspec": {
   "display_name": "Python 3",
   "language": "python",
   "name": "python3"
  },
  "language_info": {
   "codemirror_mode": {
    "name": "ipython",
    "version": 3
   },
   "file_extension": ".py",
   "mimetype": "text/x-python",
   "name": "python",
   "nbconvert_exporter": "python",
   "pygments_lexer": "ipython3",
   "version": "3.8.5"
  }
 },
 "nbformat": 4,
 "nbformat_minor": 4
}
