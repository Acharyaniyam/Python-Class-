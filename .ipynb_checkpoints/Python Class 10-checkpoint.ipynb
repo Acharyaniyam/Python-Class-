{
 "cells": [
  {
   "cell_type": "code",
   "execution_count": 2,
   "metadata": {},
   "outputs": [
    {
     "name": "stdout",
     "output_type": "stream",
     "text": [
      "Enter x = banana\n",
      "Yes\n",
      "There is 1 banana in a.\n"
     ]
    }
   ],
   "source": [
    "a = [\"apple\", \"banana\", \"cherry\",\"dove\"]\n",
    "x = input(\"Enter x = \")\n",
    "if x in a:\n",
    "    print(\"Yes\")\n",
    "    print(f\"There is {a.count(x)} {x} in a.\")"
   ]
  },
  {
   "cell_type": "code",
   "execution_count": 2,
   "metadata": {},
   "outputs": [
    {
     "name": "stdout",
     "output_type": "stream",
     "text": [
      "apple\n",
      "banana\n",
      "cherry\n",
      "dove\n"
     ]
    }
   ],
   "source": [
    "a = [\"apple\", \"banana\", \"cherry\",\"dove\"]\n",
    "for i in a:\n",
    "   x = i.lower()\n",
    "   print(x)"
   ]
  },
  {
   "cell_type": "code",
   "execution_count": 4,
   "metadata": {},
   "outputs": [
    {
     "name": "stdout",
     "output_type": "stream",
     "text": [
      "['apple', 'banana', 'cherry', 'dove']\n"
     ]
    }
   ],
   "source": [
    "b = []\n",
    "a = [\"apple\", \"banana\", \"cherry\",\"dove\"]\n",
    "for i in a:\n",
    "   x = i.lower()\n",
    "   b.append(x)\n",
    "print(b)"
   ]
  },
  {
   "cell_type": "code",
   "execution_count": null,
   "metadata": {},
   "outputs": [],
   "source": [
    "b = []\n",
    "a = [\"apple\", \"banana\", \"cherry\",\"dove\"]\n",
    "for i in a:\n",
    "   x = i.lower()\n",
    "   b.append(x)\n",
    "print(b)\n",
    "n = input(\"Enter the value for search = \")\n",
    "if n.lower() in b:\n",
    "    print(\"Yes\")"
   ]
  },
  {
   "cell_type": "code",
   "execution_count": 6,
   "metadata": {},
   "outputs": [
    {
     "data": {
      "text/plain": [
       "0"
      ]
     },
     "execution_count": 6,
     "metadata": {},
     "output_type": "execute_result"
    }
   ],
   "source": [
    "a = [\"apple\", \"banana\", \"cherry\",\"dove\"]\n",
    "a.index(\"apple\")"
   ]
  },
  {
   "cell_type": "code",
   "execution_count": 5,
   "metadata": {},
   "outputs": [
    {
     "name": "stdout",
     "output_type": "stream",
     "text": [
      "0\n"
     ]
    }
   ],
   "source": [
    "a = [\"apple\", \"banana\", \"cherry\",\"dove\", \"apple\"]\n",
    "print(a.index(\"apple\")) #only returns the first value/position"
   ]
  },
  {
   "cell_type": "code",
   "execution_count": 4,
   "metadata": {},
   "outputs": [
    {
     "name": "stdout",
     "output_type": "stream",
     "text": [
      "0\n",
      "4\n"
     ]
    }
   ],
   "source": [
    "a = [\"apple\", \"banana\", \"cherry\",\"dove\", \"apple\"]\n",
    "n = len(a)\n",
    "for i in range(n):\n",
    "    if a[i] == \"apple\":\n",
    "        print(i)"
   ]
  },
  {
   "cell_type": "code",
   "execution_count": 3,
   "metadata": {},
   "outputs": [
    {
     "name": "stdout",
     "output_type": "stream",
     "text": [
      "[0, 4]\n"
     ]
    }
   ],
   "source": [
    "z = []\n",
    "a = [\"apple\", \"banana\", \"cherry\",\"dove\", \"apple\"]\n",
    "n = len(a)\n",
    "for i in range(n):\n",
    "    if a[i] == \"apple\":\n",
    "        z.append(i)\n",
    "print(z)"
   ]
  },
  {
   "cell_type": "code",
   "execution_count": 6,
   "metadata": {},
   "outputs": [
    {
     "name": "stdout",
     "output_type": "stream",
     "text": [
      "['ant', 'banana', 'cherry', 'dove']\n"
     ]
    }
   ],
   "source": [
    "#Update or Replace\n",
    "a = [\"apple\", \"banana\", \"cherry\",\"dove\"]\n",
    "a[0] = \"ant\"\n",
    "print(a)"
   ]
  },
  {
   "cell_type": "code",
   "execution_count": 8,
   "metadata": {},
   "outputs": [
    {
     "name": "stdout",
     "output_type": "stream",
     "text": [
      "['dove']\n"
     ]
    }
   ],
   "source": [
    "a = [\"apple\", \"banana\", \"cherry\",\"dove\"]\n",
    "del a[0:3]\n",
    "print(a)"
   ]
  },
  {
   "cell_type": "code",
   "execution_count": 10,
   "metadata": {},
   "outputs": [
    {
     "name": "stdout",
     "output_type": "stream",
     "text": [
      "['apple', 'cherry', 'dove']\n"
     ]
    }
   ],
   "source": [
    "a = [\"apple\", \"banana\", \"cherry\",\"dove\"]\n",
    "a.remove(\"banana\")\n",
    "print(a)"
   ]
  },
  {
   "cell_type": "code",
   "execution_count": 17,
   "metadata": {},
   "outputs": [
    {
     "name": "stdout",
     "output_type": "stream",
     "text": [
      "['banana', 'cherry', 'dove']\n"
     ]
    }
   ],
   "source": [
    "b = []\n",
    "a = [\"apple\", \"banana\", \"cherry\",\"dove\", \"apple\"]\n",
    "n = len(a)\n",
    "for i in range(n):\n",
    "    if a[i] == \"apple\":\n",
    "        continue\n",
    "    b.append(a[i])\n",
    "\n",
    "print(b)\n"
   ]
  },
  {
   "cell_type": "code",
   "execution_count": 18,
   "metadata": {},
   "outputs": [
    {
     "name": "stdout",
     "output_type": "stream",
     "text": [
      "['apple', 'banana', 'dove']\n"
     ]
    }
   ],
   "source": [
    "#pop() moves the value from a list to another\n",
    "a = [\"apple\", \"banana\", \"cherry\",\"dove\"]\n",
    "a.pop(2)\n",
    "print(a)"
   ]
  },
  {
   "cell_type": "code",
   "execution_count": 19,
   "metadata": {},
   "outputs": [
    {
     "name": "stdout",
     "output_type": "stream",
     "text": [
      "['apple', 'banana', 'dove']\n",
      "cherry\n"
     ]
    }
   ],
   "source": [
    "a = [\"apple\", \"banana\", \"cherry\",\"dove\"]\n",
    "b = a.pop(2)\n",
    "print(a)\n",
    "print(b)"
   ]
  },
  {
   "cell_type": "code",
   "execution_count": 21,
   "metadata": {},
   "outputs": [
    {
     "name": "stdout",
     "output_type": "stream",
     "text": [
      "[1, 2]\n"
     ]
    }
   ],
   "source": [
    "#list inside list\n",
    "a = [[1,2], [2,3], [3,4]]\n",
    "print(a[0])"
   ]
  },
  {
   "cell_type": "code",
   "execution_count": 22,
   "metadata": {},
   "outputs": [
    {
     "name": "stdout",
     "output_type": "stream",
     "text": [
      "1\n"
     ]
    }
   ],
   "source": [
    "a = [[1,2], [2,3], [3,4]]\n",
    "print(a[0][0])"
   ]
  },
  {
   "cell_type": "code",
   "execution_count": 24,
   "metadata": {},
   "outputs": [
    {
     "name": "stdout",
     "output_type": "stream",
     "text": [
      "2\n"
     ]
    }
   ],
   "source": [
    "a = [[1,2],\n",
    "     [2,3]]\n",
    "print(a[1][0])"
   ]
  },
  {
   "cell_type": "code",
   "execution_count": 27,
   "metadata": {},
   "outputs": [
    {
     "name": "stdout",
     "output_type": "stream",
     "text": [
      "5\n"
     ]
    }
   ],
   "source": [
    "a = [[1,2,3],\n",
    "     [2,3,4],\n",
    "    [3,4,5]]\n",
    "print(a[2][2])"
   ]
  },
  {
   "cell_type": "code",
   "execution_count": 34,
   "metadata": {},
   "outputs": [
    {
     "name": "stdout",
     "output_type": "stream",
     "text": [
      "Enter n =2\n",
      "Enter the name = Ram\n",
      "Enter the phone = 23453434\n",
      "Enter the name = HAri\n",
      "Enter the phone = 32332343\n",
      "[[1, 'Ram', 23453434], [2, 'HAri', 32332343]]\n"
     ]
    }
   ],
   "source": [
    "a = []\n",
    "n = int(input(\"Enter n =\"))\n",
    "for i in range(1,n+1):\n",
    "    name = input(\"Enter the name = \")\n",
    "    phone = int(input(\"Enter the phone = \"))\n",
    "    data = [i,name,phone]\n",
    "    a.append(data)\n",
    "    \n",
    "print(a)\n",
    "    "
   ]
  },
  {
   "cell_type": "code",
   "execution_count": 30,
   "metadata": {},
   "outputs": [
    {
     "name": "stdout",
     "output_type": "stream",
     "text": [
      "['Ram', 34]\n",
      "['hsri', 343555]\n"
     ]
    }
   ],
   "source": [
    "for i in a:\n",
    "    print(i)"
   ]
  },
  {
   "cell_type": "code",
   "execution_count": 32,
   "metadata": {},
   "outputs": [
    {
     "name": "stdout",
     "output_type": "stream",
     "text": [
      "Enter n = 1\n"
     ]
    },
    {
     "data": {
      "text/plain": [
       "['Ram', 34]"
      ]
     },
     "execution_count": 32,
     "metadata": {},
     "output_type": "execute_result"
    }
   ],
   "source": [
    "n = int(input(\"Enter n = \"))\n",
    "a[n-1]"
   ]
  },
  {
   "cell_type": "code",
   "execution_count": 1,
   "metadata": {},
   "outputs": [],
   "source": [
    "a =[[1, 'Ram', 23453434], [2, 'HAri', 32332343]]\n",
    "for i in a:\n",
    "    if \"Ram\" in a:\n",
    "        print(a[i])"
   ]
  },
  {
   "cell_type": "code",
   "execution_count": null,
   "metadata": {},
   "outputs": [],
   "source": [
    "#WAP for  a billing system using lists\n",
    "#WAP for resul management system"
   ]
  }
 ],
 "metadata": {
  "kernelspec": {
   "display_name": "Python 3",
   "language": "python",
   "name": "python3"
  },
  "language_info": {
   "codemirror_mode": {
    "name": "ipython",
    "version": 3
   },
   "file_extension": ".py",
   "mimetype": "text/x-python",
   "name": "python",
   "nbconvert_exporter": "python",
   "pygments_lexer": "ipython3",
   "version": "3.8.5"
  }
 },
 "nbformat": 4,
 "nbformat_minor": 4
}
