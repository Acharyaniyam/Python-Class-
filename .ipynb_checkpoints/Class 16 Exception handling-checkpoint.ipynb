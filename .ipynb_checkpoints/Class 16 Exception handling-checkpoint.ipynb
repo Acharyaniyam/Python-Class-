{
 "cells": [
  {
   "cell_type": "code",
   "execution_count": 4,
   "metadata": {},
   "outputs": [
    {
     "name": "stdout",
     "output_type": "stream",
     "text": [
      "[1, 37, 43, 51, 83, 43]\n"
     ]
    }
   ],
   "source": [
    "numbers = [1, 12, 37, 43, 51, 62, 83, 43, 90, 2020]\n",
    "print(list(filter(lambda x: x % 2 == 1, numbers)))"
   ]
  },
  {
   "cell_type": "code",
   "execution_count": 12,
   "metadata": {},
   "outputs": [
    {
     "name": "stdout",
     "output_type": "stream",
     "text": [
      "Enter a = 20\n",
      "Enter b = 0\n",
      "The value of b can not be zero.\n",
      "Enter a = 20\n",
      "Enter b = cs\n",
      "The Value of a and b should be an interger.\n",
      "Enter a = 20\n",
      "Enter b = 5\n",
      "4.0\n",
      "Your are inside cal function.\n",
      "Your are inside cal function.\n",
      "Your are inside cal function.\n"
     ]
    },
    {
     "data": {
      "text/plain": [
       "2"
      ]
     },
     "execution_count": 12,
     "metadata": {},
     "output_type": "execute_result"
    }
   ],
   "source": [
    "\n",
    "def cal():\n",
    "    count = 1\n",
    "    try :\n",
    "        a = int(input(\"Enter a = \"))\n",
    "        b = int(input(\"Enter b = \"))\n",
    "        c = a/b\n",
    "        count = count + 1\n",
    "    except ValueError:\n",
    "        print(\"The Value of a and b should be an interger.\")\n",
    "        count = count + 1\n",
    "        cal()\n",
    "    except ZeroDivisionError :\n",
    "        print(\"The value of b can not be zero.\")\n",
    "        count = count + 1\n",
    "        cal()\n",
    "    else:\n",
    "        print(c)\n",
    "    finally: \n",
    "        print(\"Your are inside cal function.\")\n",
    "        return count\n",
    "        \n",
    "cal()"
   ]
  },
  {
   "cell_type": "code",
   "execution_count": null,
   "metadata": {},
   "outputs": [],
   "source": []
  }
 ],
 "metadata": {
  "kernelspec": {
   "display_name": "Python 3",
   "language": "python",
   "name": "python3"
  },
  "language_info": {
   "codemirror_mode": {
    "name": "ipython",
    "version": 3
   },
   "file_extension": ".py",
   "mimetype": "text/x-python",
   "name": "python",
   "nbconvert_exporter": "python",
   "pygments_lexer": "ipython3",
   "version": "3.8.5"
  }
 },
 "nbformat": 4,
 "nbformat_minor": 4
}
