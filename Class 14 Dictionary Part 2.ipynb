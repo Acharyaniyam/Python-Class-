{
 "cells": [
  {
   "cell_type": "code",
   "execution_count": 6,
   "metadata": {},
   "outputs": [
    {
     "name": "stdout",
     "output_type": "stream",
     "text": [
      "Enter n = 2\n",
      "Enter product name = ROse\n",
      "Enter the price = 300\n",
      "Enter the quantity = 2\n",
      "Enter product name = Hibiscus\n",
      "Enter the price = 200\n",
      "Enter the quantity = 3\n",
      "{'ROse': {600, 2, 300}, 'Hibiscus': {200, 600, 3}}\n"
     ]
    }
   ],
   "source": [
    "a = {}\n",
    "n = int(input(\"Enter n = \"))\n",
    "for i in range(n):\n",
    "    name = input(\"Enter product name = \")\n",
    "    price = int(input(\"Enter the price = \"))\n",
    "    quantity = int(input(\"Enter the quantity = \"))\n",
    "    total = price*quantity\n",
    "    data = {price, quantity, total}\n",
    "    a[name] = data\n",
    "    \n",
    "print(a)\n",
    "    "
   ]
  },
  {
   "cell_type": "code",
   "execution_count": 3,
   "metadata": {
    "scrolled": true
   },
   "outputs": [
    {
     "name": "stdout",
     "output_type": "stream",
     "text": [
      "Enter n = 3\n",
      "Enter product name = Rose\n",
      "Enter the price = 300\n",
      "Enter the quantity = 2\n",
      "Enter product name = Dandelion\n",
      "Enter the price = 200\n",
      "Enter the quantity = 3\n",
      "Enter product name = Hibiscus\n",
      "Enter the price = 400\n",
      "Enter the quantity = 4\n",
      "[{'name': 'Rose', 'price': 300, 'quantity': 2, 'total': 600}, {'name': 'Dandelion', 'price': 200, 'quantity': 3, 'total': 600}, {'name': 'Hibiscus', 'price': 400, 'quantity': 4, 'total': 1600}]\n",
      "The net total is \n",
      " 2800\n"
     ]
    }
   ],
   "source": [
    "a = []\n",
    "net_total = 0\n",
    "n = int(input(\"Enter n = \"))\n",
    "for i in range(n):\n",
    "    name = input(\"Enter product name = \")\n",
    "    price = int(input(\"Enter the price = \"))\n",
    "    quantity = int(input(\"Enter the quantity = \"))\n",
    "    total = price*quantity\n",
    "    data = {\"name\" : name ,\"price\" : price , \"quantity\" : quantity , \"total\" : total}\n",
    "    a.append(data)\n",
    "    net_total = net_total + total\n",
    "print(a)\n",
    "print(\"The net total is \\n\", net_total)    \n"
   ]
  },
  {
   "cell_type": "code",
   "execution_count": 12,
   "metadata": {},
   "outputs": [
    {
     "data": {
      "text/plain": [
       "{'name': 'Rose', 'price': 300, 'quantity': 2, 'total': 600}"
      ]
     },
     "execution_count": 12,
     "metadata": {},
     "output_type": "execute_result"
    }
   ],
   "source": [
    "a[0]"
   ]
  },
  {
   "cell_type": "code",
   "execution_count": 5,
   "metadata": {},
   "outputs": [
    {
     "name": "stdout",
     "output_type": "stream",
     "text": [
      "Enter any value = Rose\n",
      "Rose\n",
      "Rose\n",
      "Rose\n"
     ]
    }
   ],
   "source": [
    "search = input(\"Enter any value = \")\n",
    "for i in a:\n",
    "    \n",
    "    print()\n",
    "    "
   ]
  },
  {
   "cell_type": "code",
   "execution_count": null,
   "metadata": {},
   "outputs": [],
   "source": []
  }
 ],
 "metadata": {
  "kernelspec": {
   "display_name": "Python 3",
   "language": "python",
   "name": "python3"
  }
 },
 "nbformat": 4,
 "nbformat_minor": 4
}
