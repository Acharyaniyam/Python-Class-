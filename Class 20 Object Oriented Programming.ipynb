{
 "cells": [
  {
   "cell_type": "code",
   "execution_count": null,
   "metadata": {},
   "outputs": [],
   "source": []
  },
  {
   "cell_type": "code",
   "execution_count": 8,
   "metadata": {},
   "outputs": [
    {
     "name": "stdout",
     "output_type": "stream",
     "text": [
      "This is init function 2 3\n",
      "This is init function -1 2\n",
      "This is __add__ function 1 5\n",
      "This is init function 1 5\n",
      "1 5\n"
     ]
    }
   ],
   "source": [
    "#Operator overloading\n",
    "class Point:\n",
    "    def __init__(self,x,y):\n",
    "        self.x = x\n",
    "        self.y = y\n",
    "        print(\"This is init function\",self.x,self.y)\n",
    "    \n",
    "    def __str__(self):\n",
    "        return f\"{self.x} {self.y}\"\n",
    "    \n",
    "    def __add__(self,other):\n",
    "        x = self.x+other.x\n",
    "        y = self.y+other.y\n",
    "        print(\"This is __add__ function\",x,y)\n",
    "        return Point(x,y)\n",
    "\n",
    "p1 = Point(2,3)\n",
    "p2 = Point(-1,2)\n",
    "print(p1+p2)"
   ]
  },
  {
   "cell_type": "code",
   "execution_count": 10,
   "metadata": {},
   "outputs": [
    {
     "name": "stdout",
     "output_type": "stream",
     "text": [
      "This is init function 2000\n",
      "This is init function 3000\n",
      "This is init function 4000\n",
      "This is __add__ function 5000\n",
      "This is init function 5000\n",
      "This is __add__ function 9000\n",
      "This is init function 9000\n",
      "9000\n"
     ]
    }
   ],
   "source": [
    "class Point:\n",
    "    def __init__(self,x):\n",
    "        self.x = x\n",
    "        print(\"This is init function\",self.x)\n",
    "    \n",
    "    def __str__(self):\n",
    "        return f\"{self.x}\"\n",
    "    \n",
    "    def __add__(self,other):\n",
    "        x = self.x+other.x\n",
    "        print(\"This is __add__ function\",x)\n",
    "        return Point(x)\n",
    "\n",
    "p1 = Point(2000)\n",
    "p2 = Point(3000)\n",
    "p3 = Point(4000)\n",
    "print(p1+p2+p3)"
   ]
  },
  {
   "cell_type": "code",
   "execution_count": null,
   "metadata": {},
   "outputs": [],
   "source": [
    "#polymorphism = used when the same function is used in different classes.\n"
   ]
  },
  {
   "cell_type": "code",
   "execution_count": null,
   "metadata": {},
   "outputs": [],
   "source": [
    "#public, private and protected attributes"
   ]
  },
  {
   "cell_type": "code",
   "execution_count": null,
   "metadata": {},
   "outputs": [],
   "source": [
    "#public\n"
   ]
  }
 ],
 "metadata": {
  "kernelspec": {
   "display_name": "Python 3",
   "language": "python",
   "name": "python3"
  },
  "language_info": {
   "codemirror_mode": {
    "name": "ipython",
    "version": 3
   },
   "file_extension": ".py",
   "mimetype": "text/x-python",
   "name": "python",
   "nbconvert_exporter": "python",
   "pygments_lexer": "ipython3",
   "version": "3.8.5"
  }
 },
 "nbformat": 4,
 "nbformat_minor": 4
}
