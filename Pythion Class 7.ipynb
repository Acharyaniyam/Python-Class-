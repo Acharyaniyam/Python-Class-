{
 "cells": [
  {
   "cell_type": "code",
   "execution_count": null,
   "metadata": {},
   "outputs": [
    {
     "name": "stdout",
     "output_type": "stream",
     "text": [
      "Enter the value of l =34\n"
     ]
    }
   ],
   "source": [
    "# Function with argument and return type\n",
    "def cal(x,y):\n",
    "    a = x*y\n",
    "    return a\n",
    "\n",
    "l = int(input(\"Enter the value of l =\"))\n",
    "b = int(input(\"Enter the value of b =\"))\n",
    "    \n",
    "print(cal(l,b))"
   ]
  },
  {
   "cell_type": "code",
   "execution_count": null,
   "metadata": {},
   "outputs": [],
   "source": [
    "def hello():\n",
    "    print(\"Hello World\")\n",
    "    x = input(\"Enter y for more printing = \")\n",
    "    if x == \"y\":\n",
    "     hello()\n",
    "    \n",
    "hello()"
   ]
  },
  {
   "cell_type": "code",
   "execution_count": null,
   "metadata": {},
   "outputs": [],
   "source": [
    "#Math function\n",
    "import math\n",
    "print(math.pi)"
   ]
  },
  {
   "cell_type": "code",
   "execution_count": 1,
   "metadata": {},
   "outputs": [
    {
     "name": "stdout",
     "output_type": "stream",
     "text": [
      "Enter the value = 5\n",
      "120\n"
     ]
    }
   ],
   "source": [
    "# factorial through math functions\n",
    "import math\n",
    "x = int(input(\"Enter the value = \"))\n",
    "a = math.factorial(x)\n",
    "print(a)"
   ]
  },
  {
   "cell_type": "code",
   "execution_count": 4,
   "metadata": {},
   "outputs": [
    {
     "name": "stdout",
     "output_type": "stream",
     "text": [
      "Enter r = 4\n",
      "The area is  =  50.26548245743669\n"
     ]
    }
   ],
   "source": [
    "import math as m \n",
    "r = int(input(\"Enter r = \"))\n",
    "a = m.pi*m.pow(r,2)\n",
    "print(\"The area is  = \",a)"
   ]
  },
  {
   "cell_type": "markdown",
   "metadata": {},
   "source": [
    "import math as m \n",
    "a = m.pi/2\n",
    "x = m.pow(m.sin(a),2)\n",
    "y = m.pow(m.cos(a),2)\n",
    "print(x+y)"
   ]
  },
  {
   "cell_type": "code",
   "execution_count": 7,
   "metadata": {},
   "outputs": [
    {
     "name": "stdout",
     "output_type": "stream",
     "text": [
      "1.0\n"
     ]
    }
   ],
   "source": [
    "import math as m\n",
    "a = m.pi/2\n",
    "x = m.pow(m.sin(a),2)    \n",
    "y = m.pow(m.cos(a),2)\n",
    "print(x+y)"
   ]
  },
  {
   "cell_type": "code",
   "execution_count": null,
   "metadata": {},
   "outputs": [],
   "source": [
    "all_total = 0\n",
    "bill = \"\"\n",
    "n = int(input(\"Enter how many products = \"))\n",
    "for i in range (n): \n",
    "     name = input(\"Enter product name = \")\n",
    "     price = int(input(\" Enter price = \" ))\n",
    "     quantity = int(input(\"Enter quantity = \"))\n",
    "     total = price*quantity\n",
    "     all_total = all_total + total\n",
    "     info = name + \" \" + str(price) + \" \" + str(quantity) + \" \" + str(total) \n",
    "     bill = bill + info + \"\\n\"\n",
    "print(\"My bill is \", bill)\n",
    "print(\"My all total =\", all_total)"
   ]
  },
  {
   "cell_type": "code",
   "execution_count": null,
   "metadata": {},
   "outputs": [
    {
     "name": "stdout",
     "output_type": "stream",
     "text": [
      "Enter product name = Rose\n",
      " Enter price = 400\n",
      "Enter quantity = 3\n",
      "Bill Rose 400 3 1200\n",
      "\n",
      "the net total is= 1200\n"
     ]
    }
   ],
   "source": [
    "all_total = 0\n",
    "bill = \"\"\n",
    "def  calc():\n",
    "     name = input(\"Enter product name = \")\n",
    "     price = int(input(\" Enter price = \" ))\n",
    "     quantity = int(input(\"Enter quantity = \"))\n",
    "     total = price*quantity\n",
    "     info = name + \" \" + str(price) + \" \" + str(quantity) + \" \" + str(total) \n",
    "     global bill\n",
    "     bill = bill + info + \"\\n\"\n",
    "     global all_total\n",
    "     all_total = all_total + total\n",
    "     print(\"Bill - \", bill)\n",
    "     print(\"the net total is=\", all_total)\n",
    "    \n",
    "     x = input(\"Enter y for repeat = \")\n",
    "     if x == \"y\":\n",
    "        calc()\n",
    "\n",
    "\n",
    "calc()"
   ]
  },
  {
   "cell_type": "code",
   "execution_count": null,
   "metadata": {},
   "outputs": [],
   "source": []
  }
 ],
 "metadata": {
  "kernelspec": {
   "display_name": "Python 3",
   "language": "python",
   "name": "python3"
  },
  "language_info": {
   "codemirror_mode": {
    "name": "ipython",
    "version": 3
   },
   "file_extension": ".py",
   "mimetype": "text/x-python",
   "name": "python",
   "nbconvert_exporter": "python",
   "pygments_lexer": "ipython3",
   "version": "3.8.5"
  }
 },
 "nbformat": 4,
 "nbformat_minor": 4
}
